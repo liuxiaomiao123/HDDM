{
  "nbformat": 4,
  "nbformat_minor": 0,
  "metadata": {
    "colab": {
      "name": "Python_Workshop_Pre1.ipynb",
      "provenance": [],
      "collapsed_sections": [],
      "authorship_tag": "ABX9TyPuvP0eCMJKhDls2s/C33Bj",
      "include_colab_link": true
    },
    "kernelspec": {
      "name": "python3",
      "display_name": "Python 3"
    }
  },
  "cells": [
    {
      "cell_type": "markdown",
      "metadata": {
        "id": "view-in-github",
        "colab_type": "text"
      },
      "source": [
        "<a href=\"https://colab.research.google.com/github/liuxiaomiao123/HDDM/blob/master/Python_Workshop_Pre1.ipynb\" target=\"_parent\"><img src=\"https://colab.research.google.com/assets/colab-badge.svg\" alt=\"Open In Colab\"/></a>"
      ]
    },
    {
      "cell_type": "markdown",
      "metadata": {
        "id": "Rh_kRcYeR9VP",
        "colab_type": "text"
      },
      "source": [
        "1 Python Fundamentals"
      ]
    },
    {
      "cell_type": "code",
      "metadata": {
        "id": "tlaDkdIXQFAn",
        "colab_type": "code",
        "colab": {}
      },
      "source": [
        "from google.colab import files\n",
        "files.upload()"
      ],
      "execution_count": null,
      "outputs": []
    },
    {
      "cell_type": "code",
      "metadata": {
        "id": "66pCxSRrR7s6",
        "colab_type": "code",
        "colab": {}
      },
      "source": [
        "x=34.4;\n",
        "print(\"x=\",x);"
      ],
      "execution_count": null,
      "outputs": []
    },
    {
      "cell_type": "markdown",
      "metadata": {
        "id": "aUhoyuyEUF3t",
        "colab_type": "text"
      },
      "source": [
        "2 How can I process tabular data files in Python?"
      ]
    },
    {
      "cell_type": "code",
      "metadata": {
        "id": "Vuf-_QipUIG0",
        "colab_type": "code",
        "colab": {}
      },
      "source": [
        "#-----------------------------------Uploading data---------------------------------------------------------------\n",
        "import numpy as np\n",
        "data = np.loadtxt(fname='inflammation-01.csv', delimiter=',');  \n",
        "\n",
        "# np.loadtxt has two parameters: the name of the file we want to read and the delimiter that separates values on a line\n",
        "# to save space when displaying NumPy arrays, Python does not show us trailing zeros, so 1.0 becomes 1.\n",
        "\n",
        "print(data)   # add ; to hide the display\n",
        "\n",
        "print(type(data))   # a variable is a Numpy array\n",
        "\n",
        "print(data.dtype)  # the type of the data contained in the NumPy array.\n",
        "\n",
        "print(data.shape)  # rows,columns\n"
      ],
      "execution_count": null,
      "outputs": []
    },
    {
      "cell_type": "code",
      "metadata": {
        "id": "czDiI4lmVhf4",
        "colab_type": "code",
        "colab": {}
      },
      "source": [
        "#----------------------------------Slicing data----------------------------------------------------\n",
        "\n",
        "print('first value in data:',data[0,0])   # Languages in the C family (including C++, Java, Perl, and Python) count from 0 because it represents an offset from the first value in the array (the second value is offset by one index from the first value). \n",
        "\n",
        "print(data[0:4, 0:10])  # The slice 0:4 means, “Start at index 0 and go up to, but not including, index 4”. Again, the up-to-but-not-including takes a bit of getting used to, but the rule is that the difference between the upper and lower bounds is the number of values in the slice.\n",
        "\n",
        "print(data[:3,6:])    #  We also don’t have to include the upper and lower bound on the slice. \n",
        "                      # If we don’t include the lower bound, Python uses 0 by default; \n",
        "                      # if we don’t include the upper, the slice runs to the end of the axis\n",
        "                      # if we don’t include either (i.e., if we use ‘:’ on its own), the slice includes everything:"
      ],
      "execution_count": null,
      "outputs": []
    },
    {
      "cell_type": "code",
      "metadata": {
        "id": "CgEGpKafZ0cc",
        "colab_type": "code",
        "colab": {}
      },
      "source": [
        "#----------------------------------Analyzing data----------------------------------------------------\n",
        "\n",
        "vmax, vimn, vmean, vstd = np.max(data), np.min(data), np.mean(data), np.std(data);\n",
        "print(vmax, vimn, vmean, vstd);\n",
        "\n",
        "print(numpy.mean(data, axis=0));   # vertical\n",
        "print(numpy.mean(data, axis=0).shape);  # The expression (40,) tells us we have an N×1 vector\n",
        "print(numpy.mean(data, axis=1));   # horizontal"
      ],
      "execution_count": null,
      "outputs": []
    },
    {
      "cell_type": "code",
      "metadata": {
        "id": "DNpTYBmjaauP",
        "colab_type": "code",
        "colab": {}
      },
      "source": [
        "#---------------------------------Slicing string-------------------------------------------------------\n",
        "\n",
        "element = 'oxygen';\n",
        "print(element[:4]);   # oxyg\n",
        "\n",
        "print(element[-1]);   # n \n",
        "print(element[-2]);   # e \n",
        "\n",
        "print(element[1:-1]);  # Creates a substring from index 1 up to (not including) the final index, effectively removing the first and last letters from ‘oxygen’\n",
        "\n",
        "print(element[3:3]);   # empty string"
      ],
      "execution_count": null,
      "outputs": []
    },
    {
      "cell_type": "code",
      "metadata": {
        "id": "L_EoIeawhL6Z",
        "colab_type": "code",
        "colab": {
          "base_uri": "https://localhost:8080/",
          "height": 151
        },
        "outputId": "7c5caed5-8b5c-45d4-c3a4-0e6e1b354deb"
      },
      "source": [
        "#---------------------------------Stacking arrays--------------------------------------------------------\n",
        "\n",
        "A = np.array([[1,2,3],[4,5,6]])\n",
        "print(A)\n",
        "\n",
        "B = numpy.hstack([A, A])\n",
        "print(B)\n",
        "\n",
        "C = numpy.vstack([A, A])\n",
        "print(C)"
      ],
      "execution_count": 34,
      "outputs": [
        {
          "output_type": "stream",
          "text": [
            "[[1 2 3]\n",
            " [4 5 6]]\n",
            "[[1 2 3 1 2 3]\n",
            " [4 5 6 4 5 6]]\n",
            "[[1 2 3]\n",
            " [4 5 6]\n",
            " [1 2 3]\n",
            " [4 5 6]]\n"
          ],
          "name": "stdout"
        }
      ]
    },
    {
      "cell_type": "code",
      "metadata": {
        "id": "sz2WJGfLkS5D",
        "colab_type": "code",
        "colab": {}
      },
      "source": [
        "#----------------------------------Key points--------------------------------------------------------------\n",
        "\n",
        "Import a library into a program using import libraryname.\n",
        "\n",
        "Use the numpy library to work with arrays in Python.\n",
        "\n",
        "The expression array.shape gives the shape of an array.\n",
        "\n",
        "Use array[x, y] to select a single element from a 2D array.\n",
        "\n",
        "Array indices start at 0, not 1.\n",
        "\n",
        "Use low:high to specify a slice that includes the indices from low to high-1.\n",
        "\n",
        "Use # some kind of explanation to add comments to programs.\n",
        "\n",
        "Use numpy.mean(array), numpy.max(array), and numpy.min(array) to calculate simple statistics.\n",
        "\n",
        "Use numpy.mean(array, axis=0) or numpy.mean(array, axis=1) to calculate statistics across the specified axis."
      ],
      "execution_count": null,
      "outputs": []
    }
  ]
}